{
 "cells": [
  {
   "cell_type": "markdown",
   "id": "b657329d-09c9-4aaf-b363-38a0f78edc49",
   "metadata": {},
   "source": [
    "**Question 1 How many multiplications and additions do you need to perform a matrix multiplication between a (n, k) and (k, m) matrix? Explain.**"
   ]
  },
  {
   "cell_type": "markdown",
   "id": "f2f058e8-5c97-494f-b0ee-19dfe5db9ef4",
   "metadata": {},
   "source": [
    "**Answer 1:** The number of multiplications we need to perform a matrix multiplication between a (n,k) and (k,m) matrix is n * k * m. This is because, for each element in the resultant matrix, we need to do k multiplications because we need to multi every element of a particular row of first matrix to every element of the corresponding column of the second matrix. And since the number of elements in resulting matrix is n * m, therefore total number of multiplications will be k * n * m."
   ]
  },
  {
   "cell_type": "markdown",
   "id": "c4ca572d-198b-4a13-9790-19efe90b48a4",
   "metadata": {},
   "source": [
    "The total number of additions will be n * (k-1) * m because for every element in the resultant matrix, we need to sum k products, and thus, the number of additions will be k-1. Since we have n* m such elements the total number of additions performed will be n* (k-1) * m."
   ]
  },
  {
   "cell_type": "markdown",
   "id": "48bbe66f-00ff-483e-93ec-e617cdc170df",
   "metadata": {},
   "source": [
    "**Question 2 Write Python code to multiply the above two matrices. Solve using list of lists and then use numpy. Compare the timing of both solutions. Which one is faster? Why?**"
   ]
  },
  {
   "cell_type": "markdown",
   "id": "a4f9cbb6-350b-4036-b86a-d194d34b2639",
   "metadata": {},
   "source": [
    "Using nested lists:"
   ]
  },
  {
   "cell_type": "code",
   "execution_count": 12,
   "id": "f8ed9c5a-3a97-43bb-a0d8-291baebe5775",
   "metadata": {},
   "outputs": [
    {
     "name": "stdout",
     "output_type": "stream",
     "text": [
      "Result using lists of lists:\n",
      "[76, 82]\n",
      "[184, 199]\n",
      "[292, 316]\n",
      "Time taken without using numpy: 0.0000000000 seconds\n"
     ]
    }
   ],
   "source": [
    "import time\n",
    "\n",
    "#The following function is for multiplying matrices\n",
    "def multiply_matrices(matrix1, matrix2):\n",
    "    result = [[0 for i in range(len(matrix2[0]))] for i in range(len(matrix1))]\n",
    "    \n",
    "    for i in range(len(matrix1)):\n",
    "        for j in range(len(matrix2[0])):\n",
    "            for k in range(len(matrix2)):\n",
    "                result[i][j] += matrix1[i][k] * matrix2[k][j]\n",
    "    \n",
    "    return result\n",
    "\n",
    "# Defining the matrices\n",
    "matrix1 = [[1, 2, 3],\n",
    "           [4, 5, 6],\n",
    "           [7, 8, 9]]\n",
    "\n",
    "matrix2 = [[10, 11],\n",
    "           [12, 13],\n",
    "           [14, 15]]\n",
    "\n",
    "# Multiplying matrices using lists of lists\n",
    "start_time = time.time()\n",
    "result_lists = multiply_matrices(matrix1, matrix2)\n",
    "end_time = time.time()\n",
    "execution_time_lists = end_time - start_time\n",
    "\n",
    "print(\"Result using lists of lists:\")\n",
    "for row in result_lists:\n",
    "    print(row)\n",
    "\n",
    "print(\"Time taken without using numpy: {:.10f} seconds\".format(execution_time_lists))"
   ]
  },
  {
   "cell_type": "markdown",
   "id": "eaceda2f-2484-4251-a580-5b9f748b5747",
   "metadata": {},
   "source": [
    "Using numpy:"
   ]
  },
  {
   "cell_type": "code",
   "execution_count": 7,
   "id": "99cfb607-7c29-46f3-b339-c4b05c82de6b",
   "metadata": {},
   "outputs": [
    {
     "name": "stdout",
     "output_type": "stream",
     "text": [
      "Result using numpy:\n",
      "[[ 76  82]\n",
      " [184 199]\n",
      " [292 316]]\n",
      "Time taken using numpy: 0.0009984970 seconds\n"
     ]
    }
   ],
   "source": [
    "import numpy as np\n",
    "import time\n",
    "\n",
    "# Defining the matrices as numpy arrays\n",
    "matrix1= np.array([[1, 2, 3],\n",
    "                    [4, 5, 6],\n",
    "                    [7, 8, 9]])\n",
    "\n",
    "matrix2= np.array([[10, 11],\n",
    "                    [12, 13],\n",
    "                    [14, 15]])\n",
    "\n",
    "# Multiplying matrices using numpy\n",
    "start_time= time.time()\n",
    "result_numpy= np.dot(matrix1, matrix2)\n",
    "end_time= time.time()\n",
    "execution_time_numpy= end_time - start_time\n",
    "\n",
    "print(\"Result using numpy:\")\n",
    "print(result_numpy)\n",
    "print(\"Time taken using numpy: {:.10f} seconds\".format(execution_time_numpy))"
   ]
  },
  {
   "cell_type": "markdown",
   "id": "0e6b5ebb-1110-4f56-87d2-726f2e1b5ccd",
   "metadata": {},
   "source": [
    "We see that using nested lists shows zero seconds whereas using numpy time taken is more. I don't know the exact reason why this is happening but I am guessing it is happening because of more loading time and complexity while using numpy. For larger matrixes maybe numpy becomes better than the nested lists method."
   ]
  },
  {
   "cell_type": "markdown",
   "id": "fcb1fb24-61b7-4fa4-8cec-2e5b0de361fb",
   "metadata": {},
   "source": [
    "**Question: 4 What is the gradient of the following function with respect to x and y?**\n"
   ]
  },
  {
   "cell_type": "code",
   "execution_count": 17,
   "id": "9175a67a-e7e6-4eb1-a619-89c79f530d2c",
   "metadata": {},
   "outputs": [
    {
     "name": "stdout",
     "output_type": "stream",
     "text": [
      "analytical gradient at (x,y)=(1,2):(np.float64(8.322418446945118), np.float64(11.097651817694757))\n"
     ]
    }
   ],
   "source": [
    "import numpy as np\n",
    "#function is defined\n",
    "def f(x,y):\n",
    "    return y*x**2+np.sin(x)*y**3\n",
    "\n",
    "# Assumed/Example values for x and y to print out the value of the gradient\n",
    "x=1\n",
    "y=2\n",
    "\n",
    "# Analytical gradient\n",
    "grad_analytical=(2*x*y+np.cos(x)*y**3,x**2+np.sin(x)*3*y**2)\n",
    "# print(grad_analytical)\n",
    "print(f\"analytical gradient at (x,y)=({x},{y}):{grad_analytical}\") #The value of trignometric functions are in radians."
   ]
  },
  {
   "cell_type": "markdown",
   "id": "74336df1-1df3-48e5-84d5-3d0ccb861a96",
   "metadata": {},
   "source": [
    "**Question: 5 Use JAX to confirm the gradient evaluated by your method matches the analytical solution corresponding to a few random values of x and y**"
   ]
  },
  {
   "cell_type": "code",
   "execution_count": 22,
   "id": "4595669d-e085-4040-84ae-e243f2212f34",
   "metadata": {},
   "outputs": [
    {
     "name": "stdout",
     "output_type": "stream",
     "text": [
      "analytical gradient at (x, y) = (1.0, 2.0): (np.float64(8.322418446945118), np.float64(11.097651817694757))\n",
      "JAX Gradient at (x, y) = (1.0, 2.0): (Array(8.322418, dtype=float32, weak_type=True), Array(11.0976515, dtype=float32, weak_type=True))\n"
     ]
    }
   ],
   "source": [
    "import jax.numpy as jnp\n",
    "from jax import grad\n",
    "import numpy as np\n",
    "\n",
    "# Function is defined\n",
    "def f(x,y):\n",
    "    return x**2*y+y**3*jnp.sin(x)\n",
    "# Computing the gradient using in built function\n",
    "gradf = grad(f,argnums=(0,1))\n",
    "#values for x and y\n",
    "x=1.0\n",
    "y=2.0\n",
    "# Analytical gradient using numpy\n",
    "gradAnalytical=(2*x*y+y**3*np.cos(x),x**2+3*y*2*np.sin(x))\n",
    "# Gradient using JAX\n",
    "gradientjax = gradf(x,y)\n",
    "\n",
    "print(f\"analytical gradient at (x, y) = ({x}, {y}): {gradAnalytical}\")\n",
    "print(f\"JAX Gradient at (x, y) = ({x}, {y}): {gradientjax}\")"
   ]
  },
  {
   "cell_type": "markdown",
   "id": "a6b9b4e4-8eba-4f27-9b7d-8aca13156e44",
   "metadata": {},
   "source": [
    "**Question 6: Use sympy to confirm that you obtain the same gradient analytically.**"
   ]
  },
  {
   "cell_type": "code",
   "execution_count": 4,
   "id": "f8416821-ab0a-47a1-b07a-77896007ade5",
   "metadata": {},
   "outputs": [
    {
     "data": {
      "text/plain": [
       "([2*x*y + y**3*cos(x), x**2 + 3*y**2*sin(x)],\n",
       " [8.32241844694512, 11.0976518176948])"
      ]
     },
     "execution_count": 4,
     "metadata": {},
     "output_type": "execute_result"
    }
   ],
   "source": [
    "import sympy as sp\n",
    "# Defining symbols\n",
    "x,y=sp.symbols('x y')\n",
    "\n",
    "#function\n",
    "f=x**2*y+y**3*sp.sin(x)\n",
    "#gradient\n",
    "gradf=[sp.diff(f,var) for var in (x,y)]\n",
    "#computing the gradient at x=1, y=2\n",
    "grad_evaluated=[g.evalf(subs={x:1.0,y:2.0}) for g in gradf]\n",
    "\n",
    "gradf, grad_evaluated"
   ]
  },
  {
   "cell_type": "markdown",
   "id": "b4f0b874-1109-49d7-83c3-1bf2cb7a42ce",
   "metadata": {},
   "source": [
    "**Question 7: Create a Python nested dictionary to represent hierarchical information. We want to store record of students and their marks. Something like:\n",
    "2022\n",
    "Branch 1\n",
    "Roll Number: 1, Name: N, Marks:\n",
    "Maths: 100, English: 70 …\n",
    "Branch 2\n",
    "2023\n",
    "Branch 1\n",
    "Branch 2\n",
    "2024\n",
    "Branch 1\n",
    "Branch 2\n",
    "2025\n",
    "Branch 1\n",
    "Branch 2**"
   ]
  },
  {
   "cell_type": "markdown",
   "id": "4bb61523-b5f6-42b9-a564-d4a2fed7e211",
   "metadata": {},
   "source": [
    "Following is the code:"
   ]
  },
  {
   "cell_type": "code",
   "execution_count": 14,
   "id": "e1e4bd55-2fd2-4ac0-981f-e095c7dc1a92",
   "metadata": {},
   "outputs": [
    {
     "name": "stdout",
     "output_type": "stream",
     "text": [
      "{2022: {'Branch 1': {'Roll Number': 1, 'Name': 'N', 'Marks': {'Maths': 100, 'English': 70, 'Science': 90}}, 'Branch 2': {}}, 2023: {'Branch 1': {}, 'Branch 2': {'Roll Number': 2}}, 2024: {'Branch 1': {}, 'Branch 2': {}}, 2025: {'Branch 1': {}, 'Branch 2': {}}}\n"
     ]
    }
   ],
   "source": [
    "student_records = {\n",
    "    2022: {\n",
    "        'Branch 1': {\n",
    "            'Roll Number': 1,\n",
    "            'Name': 'N',\n",
    "            'Marks': {'Maths': 100,'English': 70\n",
    "                # Will add more subjects and marks as needed\n",
    "                     }\n",
    "        },\n",
    "        'Branch 2': {}\n",
    "    },\n",
    "    2023: {\n",
    "        'Branch 1': {},\n",
    "        'Branch 2': {}\n",
    "    },\n",
    "    2024: {\n",
    "        'Branch 1': {},\n",
    "        'Branch 2': {}\n",
    "    },\n",
    "    2025: {\n",
    "        'Branch 1': {},\n",
    "        'Branch 2': {}\n",
    "    }\n",
    "}\n",
    "\n",
    "# Accessing and modifying the nested dictionary\n",
    "student_records[2022]['Branch 1']['Marks']['Science'] = 90\n",
    "student_records[2023]['Branch 2']['Roll Number'] = 2\n",
    "\n",
    "# Printing the nested dictionary\n",
    "print(student_records)"
   ]
  },
  {
   "cell_type": "markdown",
   "id": "e3bc0db0-264a-4aac-ac91-826dc019f5ca",
   "metadata": {},
   "source": [
    "**Question 8: Store the same information using Python classes. We have an overall database which is a list of year objects. Each year contains a list of branches. Each branch contains a list of students. Each student has some properties like name, roll number and has marks in some subjects.**"
   ]
  },
  {
   "cell_type": "markdown",
   "id": "83002dd9-2963-4ef5-889e-f02d0b849611",
   "metadata": {},
   "source": [
    "Answer 8: Following is the code:"
   ]
  },
  {
   "cell_type": "code",
   "execution_count": 15,
   "id": "db3add81-647d-4246-bf2d-851d57ed1ca9",
   "metadata": {},
   "outputs": [
    {
     "name": "stdout",
     "output_type": "stream",
     "text": [
      "2022\n",
      "N\n",
      "{'Maths': 100, 'English': 70}\n"
     ]
    }
   ],
   "source": [
    "class Student:\n",
    "    def __init__(self, name, roll_number):\n",
    "        self.name = name\n",
    "        self.roll_number = roll_number\n",
    "        self.marks = {}\n",
    "\n",
    "    def add_marks(self, subject, marks):\n",
    "        self.marks[subject] = marks\n",
    "#Defining the student class to store its information\n",
    "\n",
    "class Branch:\n",
    "    def __init__(self):\n",
    "        self.students = []\n",
    "#Defining the branch of the students\n",
    "\n",
    "class Year:\n",
    "    def __init__(self, year):\n",
    "        self.year = year\n",
    "        self.branches = []\n",
    "\n",
    "\n",
    "# Creating the overall database as a list of Year objects\n",
    "database = []\n",
    "\n",
    "# Creating Year objects and adding them to the database that we created \n",
    "year_2022 = Year(2022)\n",
    "year_2023 = Year(2023)\n",
    "year_2024 = Year(2024)\n",
    "year_2025 = Year(2025)\n",
    "\n",
    "database.append(year_2022)\n",
    "database.append(year_2023)\n",
    "database.append(year_2024)\n",
    "database.append(year_2025)\n",
    "\n",
    "# Creating Branch objects and adding them to the respective Year objects\n",
    "branch_2022_1 = Branch()\n",
    "branch_2022_2 = Branch()\n",
    "year_2022.branches.append(branch_2022_1)\n",
    "year_2022.branches.append(branch_2022_2)\n",
    "\n",
    "branch_2023_1 = Branch()\n",
    "branch_2023_2 = Branch()\n",
    "year_2023.branches.append(branch_2023_1)\n",
    "year_2023.branches.append(branch_2023_2)\n",
    "\n",
    "branch_2024_1 = Branch()\n",
    "branch_2024_2 = Branch()\n",
    "year_2024.branches.append(branch_2024_1)\n",
    "year_2024.branches.append(branch_2024_2)\n",
    "\n",
    "branch_2025_1 = Branch()\n",
    "branch_2025_2 = Branch()\n",
    "year_2025.branches.append(branch_2025_1)\n",
    "year_2025.branches.append(branch_2025_2)\n",
    "\n",
    "# Creating Student objects and adding them to the respective Branch objects\n",
    "student_2022_1 = Student('N', 1)\n",
    "student_2022_2 = Student('M', 2)\n",
    "branch_2022_1.students.append(student_2022_1)\n",
    "branch_2022_2.students.append(student_2022_2)\n",
    "\n",
    "student_2023_1 = Student('P', 3)\n",
    "student_2023_2 = Student('Q', 4)\n",
    "branch_2023_1.students.append(student_2023_1)\n",
    "branch_2023_2.students.append(student_2023_2)\n",
    "\n",
    "# Adding marks for students\n",
    "student_2022_1.add_marks('Maths', 100)\n",
    "student_2022_1.add_marks('English', 70)\n",
    "student_2023_1.add_marks('Science', 90)\n",
    "\n",
    "# Accessing and modifying the data\n",
    "print(database[0].year)  # Output: 2022\n",
    "print(database[0].branches[0].students[0].name)  # Output: N\n",
    "print(database[0].branches[0].students[0].marks)  # Output: {'Maths': 100, 'English': 70}"
   ]
  },
  {
   "cell_type": "markdown",
   "id": "19ee813c-9d46-4fd4-b3b0-283efac56239",
   "metadata": {},
   "source": [
    "**Question 9: Using matplotlib plot the following functions on the domain: x = 0.5 to 100.0 in steps of 0.5.**\n",
    "\n",
    " \n",
    " \n"
   ]
  },
  {
   "cell_type": "code",
   "execution_count": 5,
   "id": "2761a790-9924-4ca6-8849-5d7782ee5b16",
   "metadata": {
    "scrolled": true
   },
   "outputs": [
    {
     "data": {
      "image/png": "[encoded data removed]",
      "text/plain": [
       "<Figure size 1000x600 with 1 Axes>"
      ]
     },
     "metadata": {},
     "output_type": "display_data"
    }
   ],
   "source": [
    "import numpy as np\n",
    "import matplotlib.pyplot as plt\n",
    "\n",
    "\n",
    "x = np.arange(0.5, 100.5, 0.5)  # Defining the domain\n",
    "\n",
    "# Defining the functions\n",
    "y1 = x\n",
    "y2 = x**2\n",
    "y3 = x**3 / 100\n",
    "y4 = np.sin(x)\n",
    "y5 = np.sin(x) / x\n",
    "y6 = np.log(x)\n",
    "y7 = np.exp(x)\n",
    "\n",
    "# Plotting the functions\n",
    "plt.figure(figsize=(10, 6))\n",
    "plt.plot(x, y1, label='y = x')\n",
    "plt.plot(x, y2, label='y = x^2')\n",
    "plt.plot(x, y3, label='y = x^3 / 100')\n",
    "plt.plot(x, y4, label='y = sin(x)')\n",
    "plt.plot(x, y5, label='y = sin(x) / x')\n",
    "plt.plot(x, y6, label='y = log(x)')\n",
    "plt.plot(x, y7, label='y = e^x')\n",
    "\n",
    "# Setting the plot title and labels\n",
    "plt.title('Plot of Functions')\n",
    "plt.xlabel('x')\n",
    "plt.ylabel('y')\n",
    "plt.ylim(-10, 100)   # Setting the y-axis limits for zooming in\n",
    "plt.legend()  # Adding  legend\n",
    "\n",
    "# Showing the plot\n",
    "plt.show()\n",
    "#We note that the starting point of all the graphs is still not visible, but this much magnified works pretty well for clarity. Also I took help of my probability course which taught me how to plot the graphs.\n"
   ]
  },
  {
   "cell_type": "markdown",
   "id": "43d22fc6-82e8-4de5-b9f3-3acf8b8c585b",
   "metadata": {},
   "source": [
    "**Question 10: Using numpy generate a matrix of size 20X5 containing random numbers drawn uniformly from the range of 1 to 2. Using Pandas create a dataframe out of this matrix. Name the columns of the dataframe as “a”, “b”, “c”, “d”, “e”. Find the column with the highest standard deviation. Find the row with the lowest mean.**"
   ]
  },
  {
   "cell_type": "code",
   "execution_count": 6,
   "id": "0ea701af-f173-4b44-9a2e-94a8a6ccc69e",
   "metadata": {},
   "outputs": [
    {
     "name": "stdout",
     "output_type": "stream",
     "text": [
      "column with the highest standard deviation:a\n",
      "row with the lowest mean:14\n"
     ]
    }
   ],
   "source": [
    "import numpy as np\n",
    "import pandas as pd\n",
    "\n",
    "#matrix with random numbers\n",
    "matrix = np.random.uniform(1,2,size=(20,5))\n",
    "\n",
    "#DataFrame and columns\n",
    "df = pd.DataFrame(matrix,columns=[\"a\",\"b\",\"c\",\"d\",\"e\"])\n",
    "\n",
    "#column with the highest standard deviation\n",
    "std_devs=df.std()\n",
    "max_stddev_column=std_devs.idxmax()\n",
    "\n",
    "#row with the lowest mean\n",
    "means=df.mean(axis=1)\n",
    "minmean_row=means.idxmin()\n",
    "\n",
    "# Print the results\n",
    "print(f\"column with the highest standard deviation:{max_stddev_column}\")\n",
    "print(f\"row with the lowest mean:{minmean_row}\")\n",
    "#In built fuctions reference was taken from the python documentation provided on the web"
   ]
  },
  {
   "cell_type": "markdown",
   "id": "a04060ac-0fc3-4022-a9e3-c35c6b63b8db",
   "metadata": {},
   "source": [
    "**Question 11: Add a new column to the dataframe called “f” which is the sum of the columns “a”, “b”, “c”, “d”, “e”. Create another column called “g”. The value in the column “g” should be “LT8” if the value in the column “f” is less than 8 and “GT8” otherwise. Find the number of rows in the dataframe where the value in the column “g” is “LT8”. Find the standard deviation of the column “f” for the rows where the value in the column “g” is “LT8” and “GT8” respectively.**"
   ]
  },
  {
   "cell_type": "code",
   "execution_count": 7,
   "id": "8469c6a8-b839-4961-a4af-e838ef23bda5",
   "metadata": {},
   "outputs": [
    {
     "name": "stdout",
     "output_type": "stream",
     "text": [
      "number of rows where 'g' is 'LT8':17\n",
      "standard deviation of column 'f' where 'g' is 'LT8':0.3744611562251639\n",
      "standard deviation of column 'f' where 'g' is 'GT8':0.15024283811273528\n"
     ]
    }
   ],
   "source": [
    "import numpy as np\n",
    "import pandas as pd\n",
    "# matrix with random numbers\n",
    "matrix=np.random.uniform(1,2,size=(20, 5))\n",
    "\n",
    "#DataFrame and the columns\n",
    "df=pd.DataFrame(matrix,columns=[\"a\",\"b\",\"c\",\"d\",\"e\"])\n",
    "\n",
    "# adding column 'f' which is the sum of columns 'a','b','c','d','e'\n",
    "df['f']=df[['a','b','c','d','e']].sum(axis=1)\n",
    "# adding column 'g' based on the value of 'f'\n",
    "df['g']=np.where(df['f']<8,'LT8','GT8')\n",
    "\n",
    "#the number of rows where 'g' is 'LT8'\n",
    "num_lt8=(df['g']=='LT8').sum()\n",
    "#the standard deviation of column 'f' for rows where 'g' is 'LT8' and 'GT8'\n",
    "std_dev_lt8=df[df['g']=='LT8']['f'].std()\n",
    "std_dev_gt8=df[df['g']=='GT8']['f'].std()\n",
    "\n",
    "# Print the results\n",
    "print(f\"number of rows where 'g' is 'LT8':{num_lt8}\")\n",
    "print(f\"standard deviation of column 'f' where 'g' is 'LT8':{std_dev_lt8}\")\n",
    "print(f\"standard deviation of column 'f' where 'g' is 'GT8':{std_dev_gt8}\")"
   ]
  },
  {
   "cell_type": "markdown",
   "id": "c7857771-dac8-474b-925d-9cfe2fcc0353",
   "metadata": {},
   "source": [
    "**Question 12:Write a small piece of code to explain broadcasting in numpy.**"
   ]
  },
  {
   "cell_type": "code",
   "execution_count": 8,
   "id": "8422b6c9-e34f-4e55-bb58-80ffe6baec07",
   "metadata": {},
   "outputs": [
    {
     "name": "stdout",
     "output_type": "stream",
     "text": [
      "matrix:\n",
      " [[4 3 2]\n",
      " [7 8 9]]\n",
      "vector:\n",
      " [10 20 30]\n",
      "broadcasting:\n",
      " [[14 23 32]\n",
      " [17 28 39]]\n"
     ]
    }
   ],
   "source": [
    "import numpy as np\n",
    "#2D matrix (array)\n",
    "matrix=np.array([[4, 3, 2],\n",
    "                   [7, 8, 9]])\n",
    "#1D array (vector)\n",
    "vector=np.array([10, 20, 30])\n",
    "#the vector is added to each row of the matrix\n",
    "result = matrix+vector\n",
    "\n",
    "print(\"matrix:\\n\", matrix)\n",
    "print(\"vector:\\n\", vector)\n",
    "print(\"broadcasting:\\n\", result)"
   ]
  },
  {
   "cell_type": "markdown",
   "id": "bf21f140-a1de-4951-a162-981a8436b4ef",
   "metadata": {},
   "source": [
    "**Question 13:Write a function to compute the argmin of a numpy array. The function should take a numpy array as input and return the index of the minimum element. You can use the np.argmin function to verify your solution.**"
   ]
  },
  {
   "cell_type": "code",
   "execution_count": 16,
   "id": "15c491dc-4e08-4360-96c6-388f41cf3c9d",
   "metadata": {},
   "outputs": [
    {
     "name": "stdout",
     "output_type": "stream",
     "text": [
      "computed index of minimum element:1\n",
      "index of minimum element using np.argmin:1\n"
     ]
    }
   ],
   "source": [
    "import numpy as np\n",
    "def argmin(arr):\n",
    "    #initializing the index of the minimum element\n",
    "    min_index = 0\n",
    "    #iterating over the array to find the index of minimum element\n",
    "    for i in range(len(arr)):\n",
    "        if arr[i] < arr[min_index]:\n",
    "            min_index = i\n",
    "    \n",
    "    return min_index\n",
    "#example\n",
    "arr=np.array([3,1,4,1,5,9])\n",
    "computed_index=argmin(arr)\n",
    "expected_index=np.argmin(arr)\n",
    "\n",
    "print(f\"computed index of minimum element:{computed_index}\")\n",
    "print(f\"index of minimum element using np.argmin:{expected_index}\")"
   ]
  }
 ],
 "metadata": {
  "kernelspec": {
   "display_name": "Python 3 (ipykernel)",
   "language": "python",
   "name": "python3"
  },
  "language_info": {
   "codemirror_mode": {
    "name": "ipython",
    "version": 3
   },
   "file_extension": ".py",
   "mimetype": "text/x-python",
   "name": "python",
   "nbconvert_exporter": "python",
   "pygments_lexer": "ipython3",
   "version": "3.11.6"
  }
 },
 "nbformat": 4,
 "nbformat_minor": 5
}
